{
 "cells": [
  {
   "cell_type": "markdown",
   "id": "a3c7829f-9399-4bfb-adf4-63851ba5fba2",
   "metadata": {},
   "source": [
    "# build-cat-BRAN2020"
   ]
  },
  {
   "cell_type": "markdown",
   "id": "e97bedd4-8777-4754-9e29-eb09e00b990d",
   "metadata": {},
   "source": [
    "### use `ecgtools` to build a custom `intake-esm` catalogue for BRAN2020"
   ]
  },
  {
   "cell_type": "markdown",
   "id": "76ef54e3-f7a5-4c1a-a531-309d5429116b",
   "metadata": {},
   "source": [
    "Date: 25 August 2023"
   ]
  },
  {
   "cell_type": "markdown",
   "id": "7e15036a-7d6f-419a-830d-e1f558f0570a",
   "metadata": {},
   "source": [
    "Author = {\"name\": \"Thomas Moore\", \"affiliation\": \"CSIRO\", \"email\": \"thomas.moore@csiro.au\", \"orcid\": \"0000-0003-3930-1946\"}"
   ]
  },
  {
   "cell_type": "markdown",
   "id": "573d76d5-271a-4a61-9f35-42102bf5a13b",
   "metadata": {},
   "source": [
    "#### Reference documents: https://ecgtools.readthedocs.io/en/latest"
   ]
  },
  {
   "cell_type": "code",
   "execution_count": 1,
   "id": "dbfd2435-2231-4a62-aa70-d5fd531a259d",
   "metadata": {},
   "outputs": [],
   "source": [
    "import glob\n",
    "import pathlib\n",
    "import traceback\n",
    "from datetime import datetime\n",
    "\n",
    "import xarray as xr\n",
    "\n",
    "from ecgtools import Builder\n",
    "from ecgtools.builder import INVALID_ASSET, TRACEBACK\n",
    "\n",
    "from matplotlib import pyplot as plt"
   ]
  },
  {
   "cell_type": "markdown",
   "id": "885295dc-92ce-4f07-90df-ce5bf213e55e",
   "metadata": {},
   "source": [
    "### get catalog path from config file"
   ]
  },
  {
   "cell_type": "code",
   "execution_count": 2,
   "id": "700a196e-f82e-4886-b343-f051d454a075",
   "metadata": {},
   "outputs": [
    {
     "data": {
      "text/plain": [
       "'/g/data/v14/tm4888/code/BRAN2020-intake-catalog/catalogs/'"
      ]
     },
     "execution_count": 2,
     "metadata": {},
     "output_type": "execute_result"
    }
   ],
   "source": [
    "import configparser\n",
    "\n",
    "# Create a ConfigParser object\n",
    "config = configparser.ConfigParser()\n",
    "\n",
    "# Read the config file\n",
    "#########\n",
    "#### you will need to specifiy your correct path the the `data-catalogue/config.ini` file \n",
    "#########\n",
    "config.read('./code/BRAN2020-intake-catalog/config.ini')\n",
    "\n",
    "# Get the value of a variable\n",
    "catalog_path = config.get('paths', 'catalog_path')\n",
    "catalog_path"
   ]
  },
  {
   "cell_type": "markdown",
   "id": "885de51b-27ab-4167-bc36-a84bbfa773ba",
   "metadata": {},
   "source": [
    "### build the catalogue from the listing of files on `NCI` project `gb6` = 8950 files"
   ]
  },
  {
   "cell_type": "code",
   "execution_count": 17,
   "id": "83f04ece-46ad-4f2f-b048-bb30495fd886",
   "metadata": {
    "tags": []
   },
   "outputs": [],
   "source": [
    "root_source_path = '/g/data/gb6/BRAN/BRAN2020/'"
   ]
  },
  {
   "cell_type": "code",
   "execution_count": 18,
   "id": "9991bf33-b797-4ae9-baa0-1983ecf1a16c",
   "metadata": {
    "tags": []
   },
   "outputs": [
    {
     "data": {
      "text/plain": [
       "8950"
      ]
     },
     "execution_count": 18,
     "metadata": {},
     "output_type": "execute_result"
    }
   ],
   "source": [
    "files = sorted(glob.glob(root_source_path+'*/*'))\n",
    "len(files)"
   ]
  },
  {
   "cell_type": "markdown",
   "id": "d05ff543-bb70-445f-88fb-b8c96ad006f7",
   "metadata": {
    "tags": []
   },
   "source": [
    "### Write `ecgtools` parser, <br> see: https://ecgtools.readthedocs.io/en/latest/how-to/use-a-custom-parser.html"
   ]
  },
  {
   "cell_type": "code",
   "execution_count": 35,
   "id": "99d4efee-a887-4089-8211-1ba6c8ed9135",
   "metadata": {
    "tags": []
   },
   "outputs": [],
   "source": [
    "def parse_BRAN2020(file):\n",
    "    \"\"\"BRAN2020 data stored in\"\"\"\n",
    "    file = pathlib.Path(file)\n",
    "    info = {}\n",
    "\n",
    "    try:\n",
    "        stem = file.stem\n",
    "        split = stem.split('_')\n",
    "        domain = split[0]\n",
    "        time_period = file.parts[-2]\n",
    "        source = file.parts[-3]\n",
    "        \n",
    "        with xr.open_dataset(file, chunks={}, decode_times=False, decode_timedelta=False,\n",
    "                             decode_coords=False, drop_variables = ['average_DT','average_T1', 'average_T2', 'Time_bnds','Time_bounds']) as ds:\n",
    "            variable_list = [var for var in ds if 'long_name' in ds[var].attrs]\n",
    "            #remove 'average_DT','average_T1', 'average_T2'\n",
    "            #variable_list.remove('average_DT')\n",
    "            #variable_list.remove('average_T1')\n",
    "            #variable_list.remove('average_T2')\n",
    "            #check length of variable_list\n",
    "            assert len(variable_list) != 0, \"empty variable list\"\n",
    "            #assert len(variable_list) < 1, \"more than one variable\"\n",
    "\n",
    "            info = {\n",
    "                'source': source,\n",
    "                'domain': domain,\n",
    "                'time_period': time_period,\n",
    "                'variable': variable_list,\n",
    "                'path': str(file),\n",
    "            }\n",
    "\n",
    "        return info\n",
    "\n",
    "    except Exception:\n",
    "        return {INVALID_ASSET: file, TRACEBACK: traceback.format_exc()}"
   ]
  },
  {
   "cell_type": "markdown",
   "id": "dde9b432-f4f9-41f9-b9ca-107727aa8388",
   "metadata": {},
   "source": [
    "#### test parser with single file"
   ]
  },
  {
   "cell_type": "code",
   "execution_count": 36,
   "id": "f998a082-f9ef-4885-9503-68fe9f87c6c8",
   "metadata": {},
   "outputs": [
    {
     "data": {
      "text/plain": [
       "{'source': 'BRAN2020',\n",
       " 'domain': 'atm',\n",
       " 'time_period': 'annual',\n",
       " 'variable': ['land_mask',\n",
       "  'ice_mask',\n",
       "  'wind',\n",
       "  't_surf',\n",
       "  'tau_x',\n",
       "  'tau_y',\n",
       "  'u_star',\n",
       "  'u_atm',\n",
       "  'v_atm',\n",
       "  'shflx',\n",
       "  'lwflx',\n",
       "  'rh_ref',\n",
       "  'q_ref'],\n",
       " 'path': '/g/data/gb6/BRAN/BRAN2020/annual/atm_flux_diag_ann_1996.nc'}"
      ]
     },
     "execution_count": 36,
     "metadata": {},
     "output_type": "execute_result"
    }
   ],
   "source": [
    "parse_BRAN2020(files[3])"
   ]
  },
  {
   "cell_type": "markdown",
   "id": "fee44837-094f-4de1-bebd-e6a73bd18b9a",
   "metadata": {},
   "source": [
    "# setup builder object"
   ]
  },
  {
   "cell_type": "code",
   "execution_count": 49,
   "id": "bbb880df-1f4a-4db9-abc8-ae97e7990979",
   "metadata": {
    "tags": []
   },
   "outputs": [],
   "source": [
    "root_source_path = '/g/data/gb6/BRAN/BRAN2020/'"
   ]
  },
  {
   "cell_type": "code",
   "execution_count": 50,
   "id": "2b81bdfb-a469-4c17-ab46-06699a867418",
   "metadata": {
    "tags": []
   },
   "outputs": [
    {
     "name": "stdout",
     "output_type": "stream",
     "text": [
      "CPU times: user 1.18 ms, sys: 0 ns, total: 1.18 ms\n",
      "Wall time: 1.23 ms\n"
     ]
    }
   ],
   "source": [
    "%%time\n",
    "b = Builder([root_source_path],depth=1)"
   ]
  },
  {
   "cell_type": "code",
   "execution_count": 51,
   "id": "9ba190e2-8d45-4da8-82fb-150c53a3adf6",
   "metadata": {
    "tags": []
   },
   "outputs": [
    {
     "name": "stdout",
     "output_type": "stream",
     "text": [
      "CPU times: user 1min 20s, sys: 13.2 s, total: 1min 34s\n",
      "Wall time: 1min 46s\n"
     ]
    },
    {
     "data": {
      "text/plain": [
       "Builder(paths=['/g/data/gb6/BRAN/BRAN2020/'], storage_options={}, depth=1, exclude_patterns=[], include_patterns=[], joblib_parallel_kwargs={})"
      ]
     },
     "execution_count": 51,
     "metadata": {},
     "output_type": "execute_result"
    }
   ],
   "source": [
    "%%time\n",
    "b.build(parsing_func = parse_BRAN2020)"
   ]
  },
  {
   "cell_type": "code",
   "execution_count": 53,
   "id": "15c410c9-f048-4930-88eb-78871ece3437",
   "metadata": {},
   "outputs": [
    {
     "data": {
      "text/html": [
       "<div>\n",
       "<style scoped>\n",
       "    .dataframe tbody tr th:only-of-type {\n",
       "        vertical-align: middle;\n",
       "    }\n",
       "\n",
       "    .dataframe tbody tr th {\n",
       "        vertical-align: top;\n",
       "    }\n",
       "\n",
       "    .dataframe thead th {\n",
       "        text-align: right;\n",
       "    }\n",
       "</style>\n",
       "<table border=\"1\" class=\"dataframe\">\n",
       "  <thead>\n",
       "    <tr style=\"text-align: right;\">\n",
       "      <th></th>\n",
       "      <th>source</th>\n",
       "      <th>domain</th>\n",
       "      <th>time_period</th>\n",
       "      <th>variable</th>\n",
       "      <th>path</th>\n",
       "    </tr>\n",
       "  </thead>\n",
       "  <tbody>\n",
       "    <tr>\n",
       "      <th>0</th>\n",
       "      <td>BRAN2020</td>\n",
       "      <td>atm</td>\n",
       "      <td>annual</td>\n",
       "      <td>[land_mask, ice_mask, wind, t_surf, tau_x, tau...</td>\n",
       "      <td>/g/data/gb6/BRAN/BRAN2020/annual/atm_flux_diag...</td>\n",
       "    </tr>\n",
       "    <tr>\n",
       "      <th>1</th>\n",
       "      <td>BRAN2020</td>\n",
       "      <td>atm</td>\n",
       "      <td>annual</td>\n",
       "      <td>[land_mask, ice_mask, wind, t_surf, tau_x, tau...</td>\n",
       "      <td>/g/data/gb6/BRAN/BRAN2020/annual/atm_flux_diag...</td>\n",
       "    </tr>\n",
       "    <tr>\n",
       "      <th>2</th>\n",
       "      <td>BRAN2020</td>\n",
       "      <td>atm</td>\n",
       "      <td>annual</td>\n",
       "      <td>[land_mask, ice_mask, wind, t_surf, tau_x, tau...</td>\n",
       "      <td>/g/data/gb6/BRAN/BRAN2020/annual/atm_flux_diag...</td>\n",
       "    </tr>\n",
       "    <tr>\n",
       "      <th>3</th>\n",
       "      <td>BRAN2020</td>\n",
       "      <td>atm</td>\n",
       "      <td>annual</td>\n",
       "      <td>[land_mask, ice_mask, wind, t_surf, tau_x, tau...</td>\n",
       "      <td>/g/data/gb6/BRAN/BRAN2020/annual/atm_flux_diag...</td>\n",
       "    </tr>\n",
       "    <tr>\n",
       "      <th>4</th>\n",
       "      <td>BRAN2020</td>\n",
       "      <td>atm</td>\n",
       "      <td>annual</td>\n",
       "      <td>[land_mask, ice_mask, wind, t_surf, tau_x, tau...</td>\n",
       "      <td>/g/data/gb6/BRAN/BRAN2020/annual/atm_flux_diag...</td>\n",
       "    </tr>\n",
       "    <tr>\n",
       "      <th>...</th>\n",
       "      <td>...</td>\n",
       "      <td>...</td>\n",
       "      <td>...</td>\n",
       "      <td>...</td>\n",
       "      <td>...</td>\n",
       "    </tr>\n",
       "    <tr>\n",
       "      <th>8944</th>\n",
       "      <td>BRAN2020</td>\n",
       "      <td>ocean</td>\n",
       "      <td>month</td>\n",
       "      <td>[w]</td>\n",
       "      <td>/g/data/gb6/BRAN/BRAN2020/month/ocean_w_mth_20...</td>\n",
       "    </tr>\n",
       "    <tr>\n",
       "      <th>8945</th>\n",
       "      <td>BRAN2020</td>\n",
       "      <td>ocean</td>\n",
       "      <td>month</td>\n",
       "      <td>[w]</td>\n",
       "      <td>/g/data/gb6/BRAN/BRAN2020/month/ocean_w_mth_20...</td>\n",
       "    </tr>\n",
       "    <tr>\n",
       "      <th>8946</th>\n",
       "      <td>BRAN2020</td>\n",
       "      <td>ocean</td>\n",
       "      <td>month</td>\n",
       "      <td>[w]</td>\n",
       "      <td>/g/data/gb6/BRAN/BRAN2020/month/ocean_w_mth_20...</td>\n",
       "    </tr>\n",
       "    <tr>\n",
       "      <th>8947</th>\n",
       "      <td>BRAN2020</td>\n",
       "      <td>grid</td>\n",
       "      <td>static</td>\n",
       "      <td>[x_T, y_T, x_vert_T, y_vert_T, area_T, angle_T...</td>\n",
       "      <td>/g/data/gb6/BRAN/BRAN2020/static/grid_spec.nc</td>\n",
       "    </tr>\n",
       "    <tr>\n",
       "      <th>8948</th>\n",
       "      <td>BRAN2020</td>\n",
       "      <td>ocean</td>\n",
       "      <td>static</td>\n",
       "      <td>[ht, hu, kmt, kmu, tmask, umask]</td>\n",
       "      <td>/g/data/gb6/BRAN/BRAN2020/static/ocean_grid.nc</td>\n",
       "    </tr>\n",
       "  </tbody>\n",
       "</table>\n",
       "<p>8949 rows × 5 columns</p>\n",
       "</div>"
      ],
      "text/plain": [
       "        source domain time_period  \\\n",
       "0     BRAN2020    atm      annual   \n",
       "1     BRAN2020    atm      annual   \n",
       "2     BRAN2020    atm      annual   \n",
       "3     BRAN2020    atm      annual   \n",
       "4     BRAN2020    atm      annual   \n",
       "...        ...    ...         ...   \n",
       "8944  BRAN2020  ocean       month   \n",
       "8945  BRAN2020  ocean       month   \n",
       "8946  BRAN2020  ocean       month   \n",
       "8947  BRAN2020   grid      static   \n",
       "8948  BRAN2020  ocean      static   \n",
       "\n",
       "                                               variable  \\\n",
       "0     [land_mask, ice_mask, wind, t_surf, tau_x, tau...   \n",
       "1     [land_mask, ice_mask, wind, t_surf, tau_x, tau...   \n",
       "2     [land_mask, ice_mask, wind, t_surf, tau_x, tau...   \n",
       "3     [land_mask, ice_mask, wind, t_surf, tau_x, tau...   \n",
       "4     [land_mask, ice_mask, wind, t_surf, tau_x, tau...   \n",
       "...                                                 ...   \n",
       "8944                                                [w]   \n",
       "8945                                                [w]   \n",
       "8946                                                [w]   \n",
       "8947  [x_T, y_T, x_vert_T, y_vert_T, area_T, angle_T...   \n",
       "8948                   [ht, hu, kmt, kmu, tmask, umask]   \n",
       "\n",
       "                                                   path  \n",
       "0     /g/data/gb6/BRAN/BRAN2020/annual/atm_flux_diag...  \n",
       "1     /g/data/gb6/BRAN/BRAN2020/annual/atm_flux_diag...  \n",
       "2     /g/data/gb6/BRAN/BRAN2020/annual/atm_flux_diag...  \n",
       "3     /g/data/gb6/BRAN/BRAN2020/annual/atm_flux_diag...  \n",
       "4     /g/data/gb6/BRAN/BRAN2020/annual/atm_flux_diag...  \n",
       "...                                                 ...  \n",
       "8944  /g/data/gb6/BRAN/BRAN2020/month/ocean_w_mth_20...  \n",
       "8945  /g/data/gb6/BRAN/BRAN2020/month/ocean_w_mth_20...  \n",
       "8946  /g/data/gb6/BRAN/BRAN2020/month/ocean_w_mth_20...  \n",
       "8947      /g/data/gb6/BRAN/BRAN2020/static/grid_spec.nc  \n",
       "8948     /g/data/gb6/BRAN/BRAN2020/static/ocean_grid.nc  \n",
       "\n",
       "[8949 rows x 5 columns]"
      ]
     },
     "execution_count": 53,
     "metadata": {},
     "output_type": "execute_result"
    }
   ],
   "source": [
    "b.df"
   ]
  },
  {
   "cell_type": "markdown",
   "id": "d54d49e6-f7a5-42dc-a93e-2ae8ffc46f72",
   "metadata": {},
   "source": [
    "#### \"invalid assets\" ??"
   ]
  },
  {
   "cell_type": "code",
   "execution_count": 54,
   "id": "6b747f95-cb89-41b6-9c7d-1d4297b315df",
   "metadata": {
    "tags": []
   },
   "outputs": [
    {
     "ename": "KeyError",
     "evalue": "'INVALID_ASSET'",
     "output_type": "error",
     "traceback": [
      "\u001b[0;31m---------------------------------------------------------------------------\u001b[0m",
      "\u001b[0;31mKeyError\u001b[0m                                  Traceback (most recent call last)",
      "File \u001b[0;32m/g/data/v14/tm4888/miniconda3/envs/ACS-demo/lib/python3.10/site-packages/pandas/core/indexes/base.py:3802\u001b[0m, in \u001b[0;36mIndex.get_loc\u001b[0;34m(self, key, method, tolerance)\u001b[0m\n\u001b[1;32m   3801\u001b[0m \u001b[38;5;28;01mtry\u001b[39;00m:\n\u001b[0;32m-> 3802\u001b[0m     \u001b[38;5;28;01mreturn\u001b[39;00m \u001b[38;5;28;43mself\u001b[39;49m\u001b[38;5;241;43m.\u001b[39;49m\u001b[43m_engine\u001b[49m\u001b[38;5;241;43m.\u001b[39;49m\u001b[43mget_loc\u001b[49m\u001b[43m(\u001b[49m\u001b[43mcasted_key\u001b[49m\u001b[43m)\u001b[49m\n\u001b[1;32m   3803\u001b[0m \u001b[38;5;28;01mexcept\u001b[39;00m \u001b[38;5;167;01mKeyError\u001b[39;00m \u001b[38;5;28;01mas\u001b[39;00m err:\n",
      "File \u001b[0;32m/g/data/v14/tm4888/miniconda3/envs/ACS-demo/lib/python3.10/site-packages/pandas/_libs/index.pyx:138\u001b[0m, in \u001b[0;36mpandas._libs.index.IndexEngine.get_loc\u001b[0;34m()\u001b[0m\n",
      "File \u001b[0;32m/g/data/v14/tm4888/miniconda3/envs/ACS-demo/lib/python3.10/site-packages/pandas/_libs/index.pyx:165\u001b[0m, in \u001b[0;36mpandas._libs.index.IndexEngine.get_loc\u001b[0;34m()\u001b[0m\n",
      "File \u001b[0;32mpandas/_libs/hashtable_class_helper.pxi:5745\u001b[0m, in \u001b[0;36mpandas._libs.hashtable.PyObjectHashTable.get_item\u001b[0;34m()\u001b[0m\n",
      "File \u001b[0;32mpandas/_libs/hashtable_class_helper.pxi:5753\u001b[0m, in \u001b[0;36mpandas._libs.hashtable.PyObjectHashTable.get_item\u001b[0;34m()\u001b[0m\n",
      "\u001b[0;31mKeyError\u001b[0m: 'INVALID_ASSET'",
      "\nThe above exception was the direct cause of the following exception:\n",
      "\u001b[0;31mKeyError\u001b[0m                                  Traceback (most recent call last)",
      "Cell \u001b[0;32mIn[54], line 1\u001b[0m\n\u001b[0;32m----> 1\u001b[0m \u001b[43mb\u001b[49m\u001b[38;5;241;43m.\u001b[39;49m\u001b[43minvalid_assets\u001b[49m\u001b[43m[\u001b[49m\u001b[38;5;124;43m'\u001b[39;49m\u001b[38;5;124;43mINVALID_ASSET\u001b[39;49m\u001b[38;5;124;43m'\u001b[39;49m\u001b[43m]\u001b[49m\u001b[38;5;241m.\u001b[39mvalues\n",
      "File \u001b[0;32m/g/data/v14/tm4888/miniconda3/envs/ACS-demo/lib/python3.10/site-packages/pandas/core/frame.py:3807\u001b[0m, in \u001b[0;36mDataFrame.__getitem__\u001b[0;34m(self, key)\u001b[0m\n\u001b[1;32m   3805\u001b[0m \u001b[38;5;28;01mif\u001b[39;00m \u001b[38;5;28mself\u001b[39m\u001b[38;5;241m.\u001b[39mcolumns\u001b[38;5;241m.\u001b[39mnlevels \u001b[38;5;241m>\u001b[39m \u001b[38;5;241m1\u001b[39m:\n\u001b[1;32m   3806\u001b[0m     \u001b[38;5;28;01mreturn\u001b[39;00m \u001b[38;5;28mself\u001b[39m\u001b[38;5;241m.\u001b[39m_getitem_multilevel(key)\n\u001b[0;32m-> 3807\u001b[0m indexer \u001b[38;5;241m=\u001b[39m \u001b[38;5;28;43mself\u001b[39;49m\u001b[38;5;241;43m.\u001b[39;49m\u001b[43mcolumns\u001b[49m\u001b[38;5;241;43m.\u001b[39;49m\u001b[43mget_loc\u001b[49m\u001b[43m(\u001b[49m\u001b[43mkey\u001b[49m\u001b[43m)\u001b[49m\n\u001b[1;32m   3808\u001b[0m \u001b[38;5;28;01mif\u001b[39;00m is_integer(indexer):\n\u001b[1;32m   3809\u001b[0m     indexer \u001b[38;5;241m=\u001b[39m [indexer]\n",
      "File \u001b[0;32m/g/data/v14/tm4888/miniconda3/envs/ACS-demo/lib/python3.10/site-packages/pandas/core/indexes/base.py:3804\u001b[0m, in \u001b[0;36mIndex.get_loc\u001b[0;34m(self, key, method, tolerance)\u001b[0m\n\u001b[1;32m   3802\u001b[0m     \u001b[38;5;28;01mreturn\u001b[39;00m \u001b[38;5;28mself\u001b[39m\u001b[38;5;241m.\u001b[39m_engine\u001b[38;5;241m.\u001b[39mget_loc(casted_key)\n\u001b[1;32m   3803\u001b[0m \u001b[38;5;28;01mexcept\u001b[39;00m \u001b[38;5;167;01mKeyError\u001b[39;00m \u001b[38;5;28;01mas\u001b[39;00m err:\n\u001b[0;32m-> 3804\u001b[0m     \u001b[38;5;28;01mraise\u001b[39;00m \u001b[38;5;167;01mKeyError\u001b[39;00m(key) \u001b[38;5;28;01mfrom\u001b[39;00m \u001b[38;5;21;01merr\u001b[39;00m\n\u001b[1;32m   3805\u001b[0m \u001b[38;5;28;01mexcept\u001b[39;00m \u001b[38;5;167;01mTypeError\u001b[39;00m:\n\u001b[1;32m   3806\u001b[0m     \u001b[38;5;66;03m# If we have a listlike key, _check_indexing_error will raise\u001b[39;00m\n\u001b[1;32m   3807\u001b[0m     \u001b[38;5;66;03m#  InvalidIndexError. Otherwise we fall through and re-raise\u001b[39;00m\n\u001b[1;32m   3808\u001b[0m     \u001b[38;5;66;03m#  the TypeError.\u001b[39;00m\n\u001b[1;32m   3809\u001b[0m     \u001b[38;5;28mself\u001b[39m\u001b[38;5;241m.\u001b[39m_check_indexing_error(key)\n",
      "\u001b[0;31mKeyError\u001b[0m: 'INVALID_ASSET'"
     ]
    }
   ],
   "source": [
    "b.invalid_assets['INVALID_ASSET'].values"
   ]
  },
  {
   "cell_type": "markdown",
   "id": "72aa30a5-9de0-4fed-a65b-d7ca83529416",
   "metadata": {},
   "source": [
    "## save your `intake-esm` catalogue"
   ]
  },
  {
   "cell_type": "code",
   "execution_count": 55,
   "id": "693c09e2-f3c6-41ef-8c75-3e6245475226",
   "metadata": {},
   "outputs": [
    {
     "name": "stdout",
     "output_type": "stream",
     "text": [
      "Successfully wrote ESM catalog json file to: file:///g/data/v14/tm4888/code/BRAN2020-intake-catalog/catalogs/BRAN2020.json\n"
     ]
    }
   ],
   "source": [
    "b.save(\n",
    "    # File path - could save as .csv (uncompressed csv) or .csv.gz (compressed csv)\n",
    "    name = \"BRAN2020\",\n",
    "    directory = catalog_path,\n",
    "    # Column name including filepath\n",
    "    path_column_name='path',\n",
    "    # Column name including variables\n",
    "    variable_column_name='variable',\n",
    "    # Data file format - could be netcdf or zarr (in this case, netcdf)\n",
    "    data_format=\"netcdf\",\n",
    "    # Which attributes to groupby when reading in variables using intake-esm\n",
    "    groupby_attrs=[\"domain\", \"time_period\"],\n",
    "    # Aggregations which are fed into xarray when reading in data using intake\n",
    "    aggregations=[\n",
    "        {\n",
    "            \"type\": \"join_existing\",\n",
    "            \"attribute_name\": \"date\",\n",
    "            \"options\": {\"dim\": \"time\", \"coords\": \"minimal\", \"compat\": \"override\"},\n",
    "        }\n",
    "    ],\n",
    ")"
   ]
  },
  {
   "cell_type": "markdown",
   "id": "bc70a970-e15b-46f1-869e-939ec6c8b76d",
   "metadata": {},
   "source": [
    "# TEST catalog"
   ]
  },
  {
   "cell_type": "code",
   "execution_count": 56,
   "id": "fcdaeb67-ff0a-493d-b848-7d937a8eb2f3",
   "metadata": {
    "tags": []
   },
   "outputs": [],
   "source": [
    "import intake"
   ]
  },
  {
   "cell_type": "code",
   "execution_count": 57,
   "id": "eb7447d6-fa7e-4051-aaed-fe12c1aca3a5",
   "metadata": {
    "tags": []
   },
   "outputs": [
    {
     "data": {
      "text/html": [
       "<p><strong>BRAN2020 catalog with 11 dataset(s) from 8949 asset(s)</strong>:</p> <div>\n",
       "<style scoped>\n",
       "    .dataframe tbody tr th:only-of-type {\n",
       "        vertical-align: middle;\n",
       "    }\n",
       "\n",
       "    .dataframe tbody tr th {\n",
       "        vertical-align: top;\n",
       "    }\n",
       "\n",
       "    .dataframe thead th {\n",
       "        text-align: right;\n",
       "    }\n",
       "</style>\n",
       "<table border=\"1\" class=\"dataframe\">\n",
       "  <thead>\n",
       "    <tr style=\"text-align: right;\">\n",
       "      <th></th>\n",
       "      <th>unique</th>\n",
       "    </tr>\n",
       "  </thead>\n",
       "  <tbody>\n",
       "    <tr>\n",
       "      <th>source</th>\n",
       "      <td>1</td>\n",
       "    </tr>\n",
       "    <tr>\n",
       "      <th>domain</th>\n",
       "      <td>4</td>\n",
       "    </tr>\n",
       "    <tr>\n",
       "      <th>time_period</th>\n",
       "      <td>4</td>\n",
       "    </tr>\n",
       "    <tr>\n",
       "      <th>variable</th>\n",
       "      <td>16</td>\n",
       "    </tr>\n",
       "    <tr>\n",
       "      <th>path</th>\n",
       "      <td>8949</td>\n",
       "    </tr>\n",
       "    <tr>\n",
       "      <th>derived_variable</th>\n",
       "      <td>0</td>\n",
       "    </tr>\n",
       "  </tbody>\n",
       "</table>\n",
       "</div>"
      ],
      "text/plain": [
       "<IPython.core.display.HTML object>"
      ]
     },
     "metadata": {},
     "output_type": "display_data"
    }
   ],
   "source": [
    "intake.open_esm_datastore(catalog_path+'BRAN2020.json')"
   ]
  },
  {
   "cell_type": "markdown",
   "id": "936c9c98-4799-4c94-bb65-345e2311371b",
   "metadata": {},
   "source": [
    "# THE END"
   ]
  },
  {
   "cell_type": "code",
   "execution_count": null,
   "id": "3f1cf680-3e7a-45aa-9283-1aa49ca6fb88",
   "metadata": {},
   "outputs": [],
   "source": []
  }
 ],
 "metadata": {
  "kernelspec": {
   "display_name": "Python 3 (ipykernel)",
   "language": "python",
   "name": "python3"
  },
  "language_info": {
   "codemirror_mode": {
    "name": "ipython",
    "version": 3
   },
   "file_extension": ".py",
   "mimetype": "text/x-python",
   "name": "python",
   "nbconvert_exporter": "python",
   "pygments_lexer": "ipython3",
   "version": "3.10.9"
  }
 },
 "nbformat": 4,
 "nbformat_minor": 5
}
